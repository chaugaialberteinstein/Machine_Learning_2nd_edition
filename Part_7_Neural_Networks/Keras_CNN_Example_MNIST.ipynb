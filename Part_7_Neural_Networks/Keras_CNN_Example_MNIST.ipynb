{
  "cells": [
    {
      "cell_type": "markdown",
      "source": [
        "This example modifies the Sequential MNIST example to use CNN."
      ],
      "metadata": {
        "id": "CcxXJOpj8P7e"
      }
    },
    {
      "cell_type": "code",
      "source": [
        "# using Keras in TensorFlow\n",
        "\n",
        "import tensorflow as tf\n",
        "import numpy as np"
      ],
      "outputs": [],
      "execution_count": 1,
      "metadata": {
        "id": "0-qywKZt8H05",
        "execution": {
          "iopub.status.busy": "2020-12-03T16:39:42.507Z",
          "iopub.execute_input": "2020-12-03T16:39:42.519Z",
          "iopub.status.idle": "2020-12-03T16:39:45.392Z",
          "shell.execute_reply": "2020-12-03T16:39:45.432Z"
        }
      }
    },
    {
      "cell_type": "code",
      "source": [
        "batch_size = 128\n",
        "num_classes = 10\n",
        "epochs = 20"
      ],
      "outputs": [],
      "execution_count": 2,
      "metadata": {
        "id": "-Hrosq7t8f7U",
        "execution": {
          "iopub.status.busy": "2020-12-03T16:39:45.405Z",
          "iopub.execute_input": "2020-12-03T16:39:45.413Z",
          "iopub.status.idle": "2020-12-03T16:39:45.424Z",
          "shell.execute_reply": "2020-12-03T16:39:45.436Z"
        }
      }
    },
    {
      "cell_type": "code",
      "source": [
        "# the data, split between train and test sets\n",
        "(x_train, y_train), (x_test, y_test) = tf.keras.datasets.mnist.load_data()\n",
        "x_train, x_test = x_train / 255.0, x_test / 255.0\n",
        "\n",
        "x_train = np.expand_dims(x_train, axis=3)\n",
        "x_test = np.expand_dims(x_test, axis=3)\n",
        "\n",
        "print(x_train.shape)"
      ],
      "outputs": [
        {
          "output_type": "stream",
          "name": "stdout",
          "text": [
            "(60000, 28, 28, 1)\n"
          ]
        }
      ],
      "execution_count": 3,
      "metadata": {
        "id": "M4DixWIO8kOP",
        "colab": {
          "base_uri": "https://localhost:8080/"
        },
        "outputId": "df89288e-3e1b-47ea-e4bf-e68809a7be6c",
        "execution": {
          "iopub.status.busy": "2020-12-03T16:39:45.991Z",
          "iopub.execute_input": "2020-12-03T16:39:45.999Z",
          "iopub.status.idle": "2020-12-03T16:39:46.444Z",
          "shell.execute_reply": "2020-12-03T16:39:46.454Z"
        }
      }
    },
    {
      "cell_type": "code",
      "source": [
        "print(x_train.shape[0], 'train samples')\n",
        "print(x_test.shape[0], 'test samples')"
      ],
      "outputs": [
        {
          "output_type": "stream",
          "name": "stdout",
          "text": [
            "60000 train samples\n",
            "10000 test samples\n"
          ]
        }
      ],
      "execution_count": 4,
      "metadata": {
        "id": "e5aIoqIg8kXu",
        "colab": {
          "base_uri": "https://localhost:8080/"
        },
        "outputId": "98708412-c473-4707-c1ac-f0c5d5add844",
        "execution": {
          "iopub.status.busy": "2020-12-03T16:39:49.580Z",
          "iopub.execute_input": "2020-12-03T16:39:49.585Z",
          "iopub.status.idle": "2020-12-03T16:39:49.599Z",
          "shell.execute_reply": "2020-12-03T16:39:49.603Z"
        }
      }
    },
    {
      "cell_type": "code",
      "source": [
        "# convert class vectors to binary class matrices\n",
        "y_train = tf.keras.utils.to_categorical(y_train, num_classes)\n",
        "y_test = tf.keras.utils.to_categorical(y_test, num_classes)"
      ],
      "outputs": [],
      "execution_count": 5,
      "metadata": {
        "id": "EIpnOhVQ8kdX",
        "execution": {
          "iopub.status.busy": "2020-12-03T16:39:52.307Z",
          "iopub.execute_input": "2020-12-03T16:39:52.313Z",
          "iopub.status.idle": "2020-12-03T16:39:52.321Z",
          "shell.execute_reply": "2020-12-03T16:39:52.327Z"
        }
      }
    },
    {
      "cell_type": "code",
      "source": [
        "num_filters = 8\n",
        "filter_size = 3\n",
        "pool_size = 2"
      ],
      "outputs": [],
      "execution_count": 6,
      "metadata": {
        "id": "1mg_f9zPiR-O",
        "execution": {
          "iopub.status.busy": "2020-12-03T16:39:56.954Z",
          "iopub.execute_input": "2020-12-03T16:39:56.959Z",
          "iopub.status.idle": "2020-12-03T16:39:56.967Z",
          "shell.execute_reply": "2020-12-03T16:39:56.971Z"
        }
      }
    },
    {
      "cell_type": "code",
      "source": [
        "model = tf.keras.models.Sequential(\n",
        "    [\n",
        "        tf.keras.Input(shape=(28, 28, 1)),\n",
        "        tf.keras.layers.Conv2D(32, kernel_size=(3, 3), activation=\"relu\"),\n",
        "        tf.keras.layers.MaxPooling2D(pool_size=(2, 2)),\n",
        "        tf.keras.layers.Conv2D(64, kernel_size=(3, 3), activation=\"relu\"),\n",
        "        tf.keras.layers.MaxPooling2D(pool_size=(2, 2)),\n",
        "        tf.keras.layers.Flatten(),\n",
        "        tf.keras.layers.Dropout(0.5),\n",
        "        tf.keras.layers.Dense(num_classes, activation=\"softmax\"),\n",
        "    ]\n",
        ")\n"
      ],
      "outputs": [
        {
          "output_type": "stream",
          "name": "stderr",
          "text": [
            "WARNING: Logging before flag parsing goes to stderr.\n",
            "W1203 10:39:59.521941 4743577024 deprecation.py:506] From /Library/Frameworks/Python.framework/Versions/3.7/lib/python3.7/site-packages/tensorflow/python/ops/init_ops.py:1251: calling VarianceScaling.__init__ (from tensorflow.python.ops.init_ops) with dtype is deprecated and will be removed in a future version.\n",
            "Instructions for updating:\n",
            "Call initializer instance with the dtype argument instead of passing it to the constructor\n"
          ]
        }
      ],
      "execution_count": 7,
      "metadata": {
        "collapsed": true,
        "jupyter": {
          "source_hidden": false,
          "outputs_hidden": false
        },
        "nteract": {
          "transient": {
            "deleting": false
          }
        },
        "execution": {
          "iopub.status.busy": "2020-12-03T16:39:59.502Z",
          "iopub.execute_input": "2020-12-03T16:39:59.508Z",
          "iopub.status.idle": "2020-12-03T16:39:59.599Z",
          "shell.execute_reply": "2020-12-03T16:39:59.604Z"
        }
      }
    },
    {
      "cell_type": "code",
      "source": [
        "model.summary()"
      ],
      "outputs": [
        {
          "output_type": "stream",
          "name": "stdout",
          "text": [
            "Model: \"sequential\"\n",
            "_________________________________________________________________\n",
            "Layer (type)                 Output Shape              Param #   \n",
            "=================================================================\n",
            "conv2d (Conv2D)              (None, 26, 26, 32)        320       \n",
            "_________________________________________________________________\n",
            "max_pooling2d (MaxPooling2D) (None, 13, 13, 32)        0         \n",
            "_________________________________________________________________\n",
            "conv2d_1 (Conv2D)            (None, 11, 11, 64)        18496     \n",
            "_________________________________________________________________\n",
            "max_pooling2d_1 (MaxPooling2 (None, 5, 5, 64)          0         \n",
            "_________________________________________________________________\n",
            "flatten (Flatten)            (None, 1600)              0         \n",
            "_________________________________________________________________\n",
            "dropout (Dropout)            (None, 1600)              0         \n",
            "_________________________________________________________________\n",
            "dense (Dense)                (None, 10)                16010     \n",
            "=================================================================\n",
            "Total params: 34,826\n",
            "Trainable params: 34,826\n",
            "Non-trainable params: 0\n",
            "_________________________________________________________________\n"
          ]
        }
      ],
      "execution_count": 8,
      "metadata": {
        "id": "VXoeSou88w_S",
        "colab": {
          "base_uri": "https://localhost:8080/"
        },
        "outputId": "0749dd98-4a69-4257-9466-cc08773d4f01",
        "execution": {
          "iopub.status.busy": "2020-12-03T16:40:02.320Z",
          "iopub.execute_input": "2020-12-03T16:40:02.325Z",
          "iopub.status.idle": "2020-12-03T16:40:02.335Z",
          "shell.execute_reply": "2020-12-03T16:40:02.339Z"
        }
      }
    },
    {
      "cell_type": "code",
      "source": [
        "model.compile(loss='categorical_crossentropy',\n",
        "              optimizer='adam',\n",
        "              metrics=['accuracy'])\n",
        "\n",
        "history = model.fit(x_train, y_train,\n",
        "                    batch_size=batch_size,\n",
        "                    epochs=epochs,\n",
        "                    verbose=1,\n",
        "                    validation_data=(x_test, y_test))"
      ],
      "outputs": [
        {
          "output_type": "stream",
          "name": "stdout",
          "text": [
            "Train on 60000 samples, validate on 10000 samples\n",
            "Epoch 1/20\n",
            "60000/60000 [==============================] - 15s 249us/sample - loss: 0.3389 - acc: 0.8952 - val_loss: 0.0843 - val_acc: 0.9748\b\b\b\b\b\b\b\b\b\b\b\b\b\b\b\b\b\b\b\b\b\b\b\b\b\b\b\b\b\b\b\b\b\b\b\b\b\b\b\b\b\n",
            "Epoch 2/20\n",
            "60000/60000 [==============================] - 16s 260us/sample - loss: 0.1082 - acc: 0.9668 - val_loss: 0.0612 - val_acc: 0.9810\b\b\b\b\b\b\b\b\b\b\b\b\b\b\b\b\b\b\b\b\b\b\b\b\b\b\b\b\b\b\b\b\b\b\b\b\b\b\b\n",
            "Epoch 3/20\n",
            "60000/60000 [==============================] - 16s 262us/sample - loss: 0.0807 - acc: 0.9755 - val_loss: 0.0447 - val_acc: 0.9850\b\b\b\b\b\b\b\b\b\b\b\b\b\b\b\b\b\b\b\b\b\b\b\b\b\b\b\b\b\b\b\b\b\b\b\b\b\b\b\n",
            "Epoch 4/20\n",
            "60000/60000 [==============================] - 17s 286us/sample - loss: 0.0696 - acc: 0.9787 - val_loss: 0.0410 - val_acc: 0.9869\b\b\b\b\b\b\b\b\b\b\b\b\b\b\b\b\b\b\b\b\b\b\b\b\b\b\b\b\b\b\b\b\b\b\b\b\b\b\b\n",
            "Epoch 5/20\n",
            "60000/60000 [==============================] - 15s 257us/sample - loss: 0.0596 - acc: 0.9819 - val_loss: 0.0377 - val_acc: 0.9872\b\b\b\b\b\b\b\b\b\b\b\b\b\b\b\b\b\b\b\b\b\b\b\b\b\b\b\b\b\b\b\b\b\b\b\b\b\b\b\n",
            "Epoch 6/20\n",
            "60000/60000 [==============================] - 15s 248us/sample - loss: 0.0548 - acc: 0.9830 - val_loss: 0.0347 - val_acc: 0.9877\b\b\b\b\b\b\b\b\b\b\b\b\b\b\b\b\b\b\b\b\b\b\b\b\b\b\b\b\b\b\b\b\b\b\b\b\b\b\b\n",
            "Epoch 7/20\n",
            "60000/60000 [==============================] - 15s 248us/sample - loss: 0.0495 - acc: 0.9846 - val_loss: 0.0312 - val_acc: 0.9893\b\b\b\b\b\b\b\b\b\b\b\b\b\b\b\b\b\b\b\b\b\b\b\b\b\b\b\b\b\b\b\b\b\b\b\b\b\b\b\n",
            "Epoch 8/20\n",
            "60000/60000 [==============================] - 15s 251us/sample - loss: 0.0450 - acc: 0.9857 - val_loss: 0.0289 - val_acc: 0.9893\b\b\b\b\b\b\b\b\b\b\b\b\b\b\b\b\b\b\b\b\b\b\b\b\b\b\b\b\b\b\b\b\b\b\b\b\b\b\b\n",
            "Epoch 9/20\n",
            "60000/60000 [==============================] - 15s 248us/sample - loss: 0.0424 - acc: 0.9867 - val_loss: 0.0280 - val_acc: 0.9906\b\b\b\b\b\b\b\b\b\b\b\b\b\b\b\b\b\b\b\b\b\b\b\b\b\b\b\b\b\b\b\b\b\b\b\b\b\b\b\n",
            "Epoch 10/20\n",
            "60000/60000 [==============================] - 15s 247us/sample - loss: 0.0411 - acc: 0.9872 - val_loss: 0.0279 - val_acc: 0.9904\b\b\b\b\b\b\b\b\b\b\b\b\b\b\b\b\b\b\b\b\b\b\b\b\b\b\b\b\b\b\b\b\b\b\b\b\b\b\b\n",
            "Epoch 11/20\n",
            "60000/60000 [==============================] - 15s 250us/sample - loss: 0.0368 - acc: 0.9877 - val_loss: 0.0265 - val_acc: 0.9904\b\b\b\b\b\b\b\b\b\b\b\b\b\b\b\b\b\b\b\b\b\b\b\b\b\b\b\b\b\b\b\b\b\b\b\b\b\b\b\n",
            "Epoch 12/20\n",
            "60000/60000 [==============================] - 15s 245us/sample - loss: 0.0373 - acc: 0.9883 - val_loss: 0.0264 - val_acc: 0.9909\b\b\b\b\b\b\b\b\b\b\b\b\b\b\b\b\b\b\b\b\b\b\b\b\b\b\b\b\b\b\b\b\b\b\b\b\b\b\b\n",
            "Epoch 13/20\n",
            "60000/60000 [==============================] - 15s 250us/sample - loss: 0.0348 - acc: 0.9891 - val_loss: 0.0245 - val_acc: 0.9916\b\b\b\b\b\b\b\b\b\b\b\b\b\b\b\b\b\b\b\b\b\b\b\b\b\b\b\b\b\b\b\b\b\b\b\b\b\b\b\n",
            "Epoch 14/20\n",
            "60000/60000 [==============================] - 15s 251us/sample - loss: 0.0337 - acc: 0.9894 - val_loss: 0.0232 - val_acc: 0.9923\b\b\b\b\b\b\b\b\b\b\b\b\b\b\b\b\b\b\b\b\b\b\b\b\b\b\b\b\b\b\b\b\b\b\b\b\b\b\b\n",
            "Epoch 15/20\n",
            "60000/60000 [==============================] - 15s 245us/sample - loss: 0.0301 - acc: 0.9898 - val_loss: 0.0244 - val_acc: 0.9919\b\b\b\b\b\b\b\b\b\b\b\b\b\b\b\b\b\b\b\b\b\b\b\b\b\b\b\b\b\b\b\b\b\b\b\b\b\b\b\n",
            "Epoch 16/20\n",
            "60000/60000 [==============================] - 15s 250us/sample - loss: 0.0295 - acc: 0.9905 - val_loss: 0.0236 - val_acc: 0.9909\b\b\b\b\b\b\b\b\b\b\b\b\b\b\b\b\b\b\b\b\b\b\b\b\b\b\b\b\b\b\b\b\b\b\b\b\b\b\b\n",
            "Epoch 17/20\n",
            "60000/60000 [==============================] - 15s 247us/sample - loss: 0.0293 - acc: 0.9902 - val_loss: 0.0225 - val_acc: 0.9922\b\b\b\b\b\b\b\b\b\b\b\b\b\b\b\b\b\b\b\b\b\b\b\b\b\b\b\b\b\b\b\b\b\b\b\b\b\b\b\n",
            "Epoch 18/20\n",
            "60000/60000 [==============================] - 15s 251us/sample - loss: 0.0282 - acc: 0.9909 - val_loss: 0.0235 - val_acc: 0.9926\b\b\b\b\b\b\b\b\b\b\b\b\b\b\b\b\b\b\b\b\b\b\b\b\b\b\b\b\b\b\b\b\b\b\b\b\b\b\b\n",
            "Epoch 19/20\n",
            "60000/60000 [==============================] - 14s 240us/sample - loss: 0.0263 - acc: 0.9915 - val_loss: 0.0225 - val_acc: 0.9922\b\b\b\b\b\b\b\b\b\b\b\b\b\b\b\b\b\b\b\b\b\b\b\b\b\b\b\b\b\b\b\b\b\b\b\b\b\b\b\n",
            "Epoch 20/20\n",
            "60000/60000 [==============================] - 15s 252us/sample - loss: 0.0270 - acc: 0.9910 - val_loss: 0.0226 - val_acc: 0.9919\b\b\b\b\b\b\b\b\b\b\b\b\b\b\b\b\b\b\b\b\b\b\b\b\b\b\b\b\b\b\b\b\b\b\b\b\b\b\b\n"
          ]
        }
      ],
      "execution_count": 9,
      "metadata": {
        "id": "_InuAxx_8xKN",
        "colab": {
          "base_uri": "https://localhost:8080/",
          "height": 715
        },
        "outputId": "d4569164-49ec-471d-be9d-22d70e097b3c",
        "execution": {
          "iopub.status.busy": "2020-12-03T16:40:05.407Z",
          "iopub.execute_input": "2020-12-03T16:40:05.412Z",
          "iopub.status.idle": "2020-12-03T16:45:08.159Z",
          "shell.execute_reply": "2020-12-03T16:45:08.167Z"
        }
      }
    },
    {
      "cell_type": "code",
      "source": [
        "import matplotlib.pyplot as plt\n",
        "\n",
        "# Plot training & validation accuracy values\n",
        "plt.plot(history.history['val_acc'])\n",
        "plt.plot(history.history['acc'])\n",
        "plt.title('Model accuracy')\n",
        "plt.ylabel('Accuracy')\n",
        "plt.xlabel('Epoch')\n",
        "plt.legend(['Train', 'Test'], loc='upper left')\n",
        "plt.show()\n"
      ],
      "outputs": [
        {
          "output_type": "display_data",
          "data": {
            "text/plain": "<Figure size 432x288 with 1 Axes>",
            "image/png": "[encoded data removed]"
          },
          "metadata": {
            "needs_background": "light"
          }
        }
      ],
      "execution_count": 11,
      "metadata": {
        "id": "09H525R7JtK1",
        "colab": {
          "base_uri": "https://localhost:8080/",
          "height": 295
        },
        "outputId": "b6d80212-bb87-4d86-a7bf-7d7dd392e0b7",
        "execution": {
          "iopub.status.busy": "2020-12-03T16:45:29.982Z",
          "iopub.execute_input": "2020-12-03T16:45:29.986Z",
          "iopub.status.idle": "2020-12-03T16:45:30.151Z",
          "shell.execute_reply": "2020-12-03T16:45:30.158Z"
        }
      }
    },
    {
      "cell_type": "code",
      "source": [
        "score = model.evaluate(x_test, y_test, verbose=0)\n",
        "print('Test loss:', score[0])\n",
        "print('Test accuracy:', score[1])\n"
      ],
      "outputs": [
        {
          "output_type": "stream",
          "name": "stdout",
          "text": [
            "Test loss: 0.022564814732165542\n",
            "Test accuracy: 0.9919\n"
          ]
        }
      ],
      "execution_count": 12,
      "metadata": {
        "id": "TpNiMY6F838C",
        "colab": {
          "base_uri": "https://localhost:8080/"
        },
        "outputId": "d392e0bf-7cb7-471d-af06-050b46dab730",
        "execution": {
          "iopub.status.busy": "2020-12-03T16:45:33.428Z",
          "iopub.execute_input": "2020-12-03T16:45:33.433Z",
          "iopub.status.idle": "2020-12-03T16:45:33.973Z",
          "shell.execute_reply": "2020-12-03T16:45:33.982Z"
        }
      }
    }
  ],
  "metadata": {
    "colab": {
      "name": "Keras_CNN_Example_MNIST.ipynb",
      "provenance": [],
      "collapsed_sections": []
    },
    "kernelspec": {
      "name": "python3",
      "display_name": "Python 3"
    },
    "language_info": {
      "name": "python",
      "version": "3.7.3",
      "mimetype": "text/x-python",
      "codemirror_mode": {
        "name": "ipython",
        "version": 3
      },
      "pygments_lexer": "ipython3",
      "nbconvert_exporter": "python",
      "file_extension": ".py"
    },
    "nteract": {
      "version": "0.26.0"
    }
  },
  "nbformat": 4,
  "nbformat_minor": 0
}