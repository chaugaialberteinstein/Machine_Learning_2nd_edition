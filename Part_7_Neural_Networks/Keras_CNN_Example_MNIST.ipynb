{
  "cells": [
    {
      "cell_type": "markdown",
      "source": [
        "This example modifies the Sequential MNIST example to use CNN."
      ],
      "metadata": {
        "id": "CcxXJOpj8P7e"
      }
    },
    {
      "cell_type": "code",
      "source": [
        "# using Keras in TensorFlow\n",
        "\n",
        "import tensorflow as tf\n",
        "import numpy as np"
      ],
      "outputs": [],
      "execution_count": 5,
      "metadata": {
        "id": "0-qywKZt8H05",
        "execution": {
          "iopub.status.busy": "2020-12-02T23:33:44.995Z",
          "iopub.execute_input": "2020-12-02T23:33:45.001Z",
          "iopub.status.idle": "2020-12-02T23:33:45.009Z",
          "shell.execute_reply": "2020-12-02T23:33:45.015Z"
        }
      }
    },
    {
      "cell_type": "code",
      "source": [
        "batch_size = 128\n",
        "num_classes = 10\n",
        "epochs = 20"
      ],
      "outputs": [],
      "execution_count": 6,
      "metadata": {
        "id": "-Hrosq7t8f7U",
        "execution": {
          "iopub.status.busy": "2020-12-02T23:33:46.545Z",
          "iopub.execute_input": "2020-12-02T23:33:46.550Z",
          "iopub.status.idle": "2020-12-02T23:33:46.558Z",
          "shell.execute_reply": "2020-12-02T23:33:46.569Z"
        }
      }
    },
    {
      "cell_type": "code",
      "source": [
        "# the data, split between train and test sets\n",
        "(x_train, y_train), (x_test, y_test) = tf.keras.datasets.mnist.load_data()\n",
        "x_train, x_test = x_train / 255.0, x_test / 255.0\n",
        "\n",
        "x_train = np.expand_dims(x_train, axis=3)\n",
        "x_test = np.expand_dims(x_test, axis=3)\n",
        "\n",
        "print(x_train.shape)"
      ],
      "outputs": [
        {
          "output_type": "stream",
          "name": "stdout",
          "text": [
            "(60000, 28, 28, 1)\n"
          ]
        }
      ],
      "execution_count": 7,
      "metadata": {
        "id": "M4DixWIO8kOP",
        "colab": {
          "base_uri": "https://localhost:8080/"
        },
        "outputId": "df89288e-3e1b-47ea-e4bf-e68809a7be6c",
        "execution": {
          "iopub.status.busy": "2020-12-02T23:33:48.583Z",
          "iopub.execute_input": "2020-12-02T23:33:48.588Z",
          "iopub.status.idle": "2020-12-02T23:33:49.041Z",
          "shell.execute_reply": "2020-12-02T23:33:49.050Z"
        }
      }
    },
    {
      "cell_type": "code",
      "source": [
        "print(x_train.shape[0], 'train samples')\n",
        "print(x_test.shape[0], 'test samples')"
      ],
      "outputs": [
        {
          "output_type": "stream",
          "name": "stdout",
          "text": [
            "60000 train samples\n",
            "10000 test samples\n"
          ]
        }
      ],
      "execution_count": 8,
      "metadata": {
        "id": "e5aIoqIg8kXu",
        "colab": {
          "base_uri": "https://localhost:8080/"
        },
        "outputId": "98708412-c473-4707-c1ac-f0c5d5add844",
        "execution": {
          "iopub.status.busy": "2020-12-02T23:33:51.282Z",
          "iopub.execute_input": "2020-12-02T23:33:51.287Z",
          "iopub.status.idle": "2020-12-02T23:33:51.299Z",
          "shell.execute_reply": "2020-12-02T23:33:51.305Z"
        }
      }
    },
    {
      "cell_type": "code",
      "source": [
        "# convert class vectors to binary class matrices\n",
        "y_train = tf.keras.utils.to_categorical(y_train, num_classes)\n",
        "y_test = tf.keras.utils.to_categorical(y_test, num_classes)"
      ],
      "outputs": [],
      "execution_count": 9,
      "metadata": {
        "id": "EIpnOhVQ8kdX",
        "execution": {
          "iopub.status.busy": "2020-12-02T23:33:53.384Z",
          "iopub.execute_input": "2020-12-02T23:33:53.388Z",
          "iopub.status.idle": "2020-12-02T23:33:53.398Z",
          "shell.execute_reply": "2020-12-02T23:33:53.406Z"
        }
      }
    },
    {
      "cell_type": "code",
      "source": [
        "num_filters = 8\n",
        "filter_size = 3\n",
        "pool_size = 2"
      ],
      "outputs": [],
      "execution_count": 10,
      "metadata": {
        "id": "1mg_f9zPiR-O",
        "execution": {
          "iopub.status.busy": "2020-12-02T23:33:54.941Z",
          "iopub.execute_input": "2020-12-02T23:33:54.946Z",
          "iopub.status.idle": "2020-12-02T23:33:54.953Z",
          "shell.execute_reply": "2020-12-02T23:33:54.956Z"
        }
      }
    },
    {
      "cell_type": "code",
      "source": [
        "model = tf.keras.models.Sequential(\n",
        "    [\n",
        "        tf.keras.Input(shape=(28, 28, 1)),\n",
        "        tf.keras.layers.Conv2D(32, kernel_size=(3, 3), activation=\"relu\"),\n",
        "        tf.keras.layers.MaxPooling2D(pool_size=(2, 2)),\n",
        "        tf.keras.layers.Conv2D(64, kernel_size=(3, 3), activation=\"relu\"),\n",
        "        tf.keras.layers.MaxPooling2D(pool_size=(2, 2)),\n",
        "        tf.keras.layers.Flatten(),\n",
        "        tf.keras.layers.Dropout(0.5),\n",
        "        tf.keras.layers.Dense(num_classes, activation=\"softmax\"),\n",
        "    ]\n",
        ")\n"
      ],
      "outputs": [
        {
          "output_type": "stream",
          "name": "stdout",
          "text": [
            "Model: \"sequential_3\"\n",
            "_________________________________________________________________\n",
            "Layer (type)                 Output Shape              Param #   \n",
            "=================================================================\n",
            "conv2d_5 (Conv2D)            (None, 26, 26, 32)        320       \n",
            "_________________________________________________________________\n",
            "max_pooling2d_4 (MaxPooling2 (None, 13, 13, 32)        0         \n",
            "_________________________________________________________________\n",
            "conv2d_6 (Conv2D)            (None, 11, 11, 64)        18496     \n",
            "_________________________________________________________________\n",
            "max_pooling2d_5 (MaxPooling2 (None, 5, 5, 64)          0         \n",
            "_________________________________________________________________\n",
            "flatten_3 (Flatten)          (None, 1600)              0         \n",
            "_________________________________________________________________\n",
            "dropout (Dropout)            (None, 1600)              0         \n",
            "_________________________________________________________________\n",
            "dense_3 (Dense)              (None, 10)                16010     \n",
            "=================================================================\n",
            "Total params: 34,826\n",
            "Trainable params: 34,826\n",
            "Non-trainable params: 0\n",
            "_________________________________________________________________\n"
          ]
        }
      ],
      "execution_count": 24,
      "metadata": {
        "collapsed": true,
        "jupyter": {
          "source_hidden": false,
          "outputs_hidden": false
        },
        "nteract": {
          "transient": {
            "deleting": false
          }
        },
        "execution": {
          "iopub.status.busy": "2020-12-02T23:39:12.014Z",
          "iopub.execute_input": "2020-12-02T23:39:12.020Z",
          "iopub.status.idle": "2020-12-02T23:39:12.143Z",
          "shell.execute_reply": "2020-12-02T23:39:12.153Z"
        }
      }
    },
    {
      "cell_type": "code",
      "source": [
        "model.summary()"
      ],
      "outputs": [
        {
          "output_type": "stream",
          "name": "stdout",
          "text": [
            "Model: \"sequential_2\"\n",
            "_________________________________________________________________\n",
            "Layer (type)                 Output Shape              Param #   \n",
            "=================================================================\n",
            "conv2d_2 (Conv2D)            (None, 26, 26, 8)         80        \n",
            "_________________________________________________________________\n",
            "max_pooling2d_2 (MaxPooling2 (None, 13, 13, 8)         0         \n",
            "_________________________________________________________________\n",
            "flatten_2 (Flatten)          (None, 1352)              0         \n",
            "_________________________________________________________________\n",
            "dense_2 (Dense)              (None, 10)                13530     \n",
            "=================================================================\n",
            "Total params: 13,610\n",
            "Trainable params: 13,610\n",
            "Non-trainable params: 0\n",
            "_________________________________________________________________\n"
          ]
        }
      ],
      "execution_count": 14,
      "metadata": {
        "id": "VXoeSou88w_S",
        "colab": {
          "base_uri": "https://localhost:8080/"
        },
        "outputId": "0749dd98-4a69-4257-9466-cc08773d4f01",
        "execution": {
          "iopub.status.busy": "2020-12-02T23:34:39.915Z",
          "iopub.execute_input": "2020-12-02T23:34:39.920Z",
          "iopub.status.idle": "2020-12-02T23:34:39.933Z",
          "shell.execute_reply": "2020-12-02T23:34:39.942Z"
        }
      }
    },
    {
      "cell_type": "code",
      "source": [
        "model.compile(loss='categorical_crossentropy',\n",
        "              optimizer='adam',\n",
        "              metrics=['accuracy'])\n",
        "\n",
        "history = model.fit(x_train, y_train,\n",
        "                    batch_size=batch_size,\n",
        "                    epochs=epochs,\n",
        "                    verbose=1,\n",
        "                    validation_data=(x_test, y_test))"
      ],
      "outputs": [
        {
          "output_type": "stream",
          "name": "stdout",
          "text": [
            "Train on 60000 samples, validate on 10000 samples\n",
            "Epoch 1/20\n",
            "60000/60000 [==============================] - 15s 252us/sample - loss: 0.3512 - acc: 0.8922 - val_loss: 0.0836 - val_acc: 0.9743\b\b\b\b\b\b\b\b\b\b\b\b\b\b\b\b\b\b\b\b\b\b\b\b\b\b\b\b\b\b\b\b\b\b\b\b\b\b\b\n",
            "Epoch 2/20\n",
            "60000/60000 [==============================] - 16s 269us/sample - loss: 0.1112 - acc: 0.9664 - val_loss: 0.0575 - val_acc: 0.9821\b\b\b\b\b\b\b\b\b\b\b\b\b\b\b\b\b\b\b\b\b\b\b\b\b\b\b\b\b\b\b\b\b\b\b\b\b\b\b\n",
            "Epoch 3/20\n",
            "60000/60000 [==============================] - 16s 265us/sample - loss: 0.0824 - acc: 0.9748 - val_loss: 0.0452 - val_acc: 0.9855\b\b\b\b\b\b\b\b\b\b\b\b\b\b\b\b\b\b\b\b\b\b\b\b\b\b\b\b\b\b\b\b\b\b\b\b\b\b\b\n",
            "Epoch 4/20\n",
            "60000/60000 [==============================] - 16s 261us/sample - loss: 0.0665 - acc: 0.9797 - val_loss: 0.0392 - val_acc: 0.9869\b\b\b\b\b\b\b\b\b\b\b\b\b\b\b\b\b\b\b\b\b\b\b\b\b\b\b\b\b\b\b\b\b\b\b\b\b\b\b\n",
            "Epoch 5/20\n",
            "60000/60000 [==============================] - 17s 282us/sample - loss: 0.0602 - acc: 0.9811 - val_loss: 0.0346 - val_acc: 0.9880\b\b\b\b\b\b\b\b\b\b\b\b\b\b\b\b\b\b\b\b\b\b\b\b\b\b\b\b\b\b\b\b\b\b\b\b\b\b\b\n",
            "Epoch 6/20\n",
            "60000/60000 [==============================] - 16s 262us/sample - loss: 0.0538 - acc: 0.9832 - val_loss: 0.0323 - val_acc: 0.9895\b\b\b\b\b\b\b\b\b\b\b\b\b\b\b\b\b\b\b\b\b\b\b\b\b\b\b\b\b\b\b\b\b\b\b\b\b\b\b\n",
            "Epoch 7/20\n",
            "60000/60000 [==============================] - 17s 276us/sample - loss: 0.0499 - acc: 0.9845 - val_loss: 0.0359 - val_acc: 0.9882\b\b\b\b\b\b\b\b\b\b\b\b\b\b\b\b\b\b\b\b\b\b\b\b\b\b\b\b\b\b\b\b\b\b\b\b\b\b\b\n",
            "Epoch 8/20\n",
            "60000/60000 [==============================] - 16s 259us/sample - loss: 0.0461 - acc: 0.9859 - val_loss: 0.0306 - val_acc: 0.9901\b\b\b\b\b\b\b\b\b\b\b\b\b\b\b\b\b\b\b\b\b\b\b\b\b\b\b\b\b\b\b\b\b\b\b\b\b\b\b\n",
            "Epoch 9/20\n",
            "60000/60000 [==============================] - 16s 266us/sample - loss: 0.0440 - acc: 0.9864 - val_loss: 0.0301 - val_acc: 0.9898\b\b\b\b\b\b\b\b\b\b\b\b\b\b\b\b\b\b\b\b\b\b\b\b\b\b\b\b\b\b\b\b\b\b\b\b\b\b\b\n",
            "Epoch 10/20\n",
            "60000/60000 [==============================] - 15s 246us/sample - loss: 0.0407 - acc: 0.9867 - val_loss: 0.0293 - val_acc: 0.9905\b\b\b\b\b\b\b\b\b\b\b\b\b\b\b\b\b\b\b\b\b\b\b\b\b\b\b\b\b\b\b\b\b\b\b\b\b\b\b\n",
            "Epoch 11/20\n",
            "60000/60000 [==============================] - 15s 243us/sample - loss: 0.0398 - acc: 0.9874 - val_loss: 0.0275 - val_acc: 0.9907\b\b\b\b\b\b\b\b\b\b\b\b\b\b\b\b\b\b\b\b\b\b\b\b\b\b\b\b\b\b\b\b\b\b\b\b\b\b\b\n",
            "Epoch 12/20\n",
            "60000/60000 [==============================] - 15s 244us/sample - loss: 0.0369 - acc: 0.9880 - val_loss: 0.0286 - val_acc: 0.9899\b\b\b\b\b\b\b\b\b\b\b\b\b\b\b\b\b\b\b\b\b\b\b\b\b\b\b\b\b\b\b\b\b\b\b\b\b\b\b\n",
            "Epoch 13/20\n",
            "60000/60000 [==============================] - 15s 243us/sample - loss: 0.0366 - acc: 0.9880 - val_loss: 0.0245 - val_acc: 0.9918\b\b\b\b\b\b\b\b\b\b\b\b\b\b\b\b\b\b\b\b\b\b\b\b\b\b\b\b\b\b\b\b\b\b\b\b\b\b\b\n",
            "Epoch 14/20\n",
            "60000/60000 [==============================] - 15s 244us/sample - loss: 0.0342 - acc: 0.9892 - val_loss: 0.0254 - val_acc: 0.9925\b\b\b\b\b\b\b\b\b\b\b\b\b\b\b\b\b\b\b\b\b\b\b\b\b\b\b\b\b\b\b\b\b\b\b\b\b\b\b\n",
            "Epoch 15/20\n",
            "60000/60000 [==============================] - 15s 244us/sample - loss: 0.0333 - acc: 0.9896 - val_loss: 0.0254 - val_acc: 0.9919\b\b\b\b\b\b\b\b\b\b\b\b\b\b\b\b\b\b\b\b\b\b\b\b\b\b\b\b\b\b\b\b\b\b\b\b\b\b\b\n",
            "Epoch 16/20\n",
            "60000/60000 [==============================] - 15s 245us/sample - loss: 0.0310 - acc: 0.9901 - val_loss: 0.0248 - val_acc: 0.9922\b\b\b\b\b\b\b\b\b\b\b\b\b\b\b\b\b\b\b\b\b\b\b\b\b\b\b\b\b\b\b\b\b\b\b\b\b\b\b\n",
            "Epoch 17/20\n",
            "60000/60000 [==============================] - 15s 243us/sample - loss: 0.0308 - acc: 0.9901 - val_loss: 0.0234 - val_acc: 0.9928\b\b\b\b\b\b\b\b\b\b\b\b\b\b\b\b\b\b\b\b\b\b\b\b\b\b\b\b\b\b\b\b\b\b\b\b\b\b\b\n",
            "Epoch 18/20\n",
            "60000/60000 [==============================] - 15s 242us/sample - loss: 0.0290 - acc: 0.9903 - val_loss: 0.0237 - val_acc: 0.9923\b\b\b\b\b\b\b\b\b\b\b\b\b\b\b\b\b\b\b\b\b\b\b\b\b\b\b\b\b\b\b\b\b\b\b\b\b\b\b\n",
            "Epoch 19/20\n",
            "60000/60000 [==============================] - 15s 242us/sample - loss: 0.0287 - acc: 0.9906 - val_loss: 0.0227 - val_acc: 0.9930\b\b\b\b\b\b\b\b\b\b\b\b\b\b\b\b\b\b\b\b\b\b\b\b\b\b\b\b\b\b\b\b\b\b\b\b\b\b\b\n",
            "Epoch 20/20\n",
            "60000/60000 [==============================] - 15s 246us/sample - loss: 0.0268 - acc: 0.9912 - val_loss: 0.0251 - val_acc: 0.9921\b\b\b\b\b\b\b\b\b\b\b\b\b\b\b\b\b\b\b\b\b\b\b\b\b\b\b\b\b\b\b\b\b\b\b\b\b\b\b\n"
          ]
        }
      ],
      "execution_count": 25,
      "metadata": {
        "id": "_InuAxx_8xKN",
        "colab": {
          "base_uri": "https://localhost:8080/",
          "height": 715
        },
        "outputId": "d4569164-49ec-471d-be9d-22d70e097b3c",
        "execution": {
          "iopub.status.busy": "2020-12-02T23:39:17.820Z",
          "iopub.execute_input": "2020-12-02T23:39:17.825Z",
          "iopub.status.idle": "2020-12-02T23:44:22.554Z",
          "shell.execute_reply": "2020-12-02T23:44:22.562Z"
        }
      }
    },
    {
      "cell_type": "code",
      "source": [
        "import matplotlib.pyplot as plt\n",
        "\n",
        "# Plot training & validation accuracy values\n",
        "plt.plot(history.history['val_acc'])\n",
        "plt.plot(history.history['acc'])\n",
        "plt.title('Model accuracy')\n",
        "plt.ylabel('Accuracy')\n",
        "plt.xlabel('Epoch')\n",
        "plt.legend(['Train', 'Test'], loc='upper left')\n",
        "plt.show()\n"
      ],
      "outputs": [
        {
          "output_type": "display_data",
          "data": {
            "text/plain": "<Figure size 432x288 with 1 Axes>",
            "image/png": "[encoded data removed]"
          },
          "metadata": {
            "needs_background": "light"
          }
        }
      ],
      "execution_count": 26,
      "metadata": {
        "id": "09H525R7JtK1",
        "colab": {
          "base_uri": "https://localhost:8080/",
          "height": 295
        },
        "outputId": "b6d80212-bb87-4d86-a7bf-7d7dd392e0b7",
        "execution": {
          "iopub.status.busy": "2020-12-02T23:50:34.877Z",
          "iopub.execute_input": "2020-12-02T23:50:34.882Z",
          "iopub.status.idle": "2020-12-02T23:50:35.000Z",
          "shell.execute_reply": "2020-12-02T23:50:35.013Z"
        }
      }
    },
    {
      "cell_type": "code",
      "source": [
        "score = model.evaluate(x_test, y_test, verbose=0)\n",
        "print('Test loss:', score[0])\n",
        "print('Test accuracy:', score[1])\n"
      ],
      "outputs": [
        {
          "output_type": "stream",
          "name": "stdout",
          "text": [
            "Test loss: 0.02508712372428272\n",
            "Test accuracy: 0.9921\n"
          ]
        }
      ],
      "execution_count": 27,
      "metadata": {
        "id": "TpNiMY6F838C",
        "colab": {
          "base_uri": "https://localhost:8080/"
        },
        "outputId": "d392e0bf-7cb7-471d-af06-050b46dab730",
        "execution": {
          "iopub.status.busy": "2020-12-02T23:50:37.892Z",
          "iopub.execute_input": "2020-12-02T23:50:37.899Z",
          "iopub.status.idle": "2020-12-02T23:50:38.322Z",
          "shell.execute_reply": "2020-12-02T23:50:38.329Z"
        }
      }
    }
  ],
  "metadata": {
    "colab": {
      "name": "Keras_CNN_Example_MNIST.ipynb",
      "provenance": [],
      "collapsed_sections": []
    },
    "kernelspec": {
      "name": "python3",
      "display_name": "Python 3"
    },
    "language_info": {
      "name": "python",
      "version": "3.7.3",
      "mimetype": "text/x-python",
      "codemirror_mode": {
        "name": "ipython",
        "version": 3
      },
      "pygments_lexer": "ipython3",
      "nbconvert_exporter": "python",
      "file_extension": ".py"
    },
    "nteract": {
      "version": "0.26.0"
    }
  },
  "nbformat": 4,
  "nbformat_minor": 0
}