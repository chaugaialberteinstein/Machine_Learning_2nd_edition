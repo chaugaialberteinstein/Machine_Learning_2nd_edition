{
  "cells": [
    {
      "cell_type": "markdown",
      "source": [
        "This example is adapted from the Keras TensorFlow site. See [the original code here](https://www.tensorflow.org/tutorials/quickstart/beginner)"
      ],
      "metadata": {
        "id": "CcxXJOpj8P7e"
      }
    },
    {
      "cell_type": "code",
      "source": [
        "# using Keras in TensorFlow\n",
        "\n",
        "import tensorflow as tf"
      ],
      "outputs": [],
      "execution_count": 2,
      "metadata": {
        "id": "0-qywKZt8H05",
        "execution": {
          "iopub.status.busy": "2020-12-03T15:45:27.485Z",
          "iopub.execute_input": "2020-12-03T15:45:27.495Z",
          "iopub.status.idle": "2020-12-03T15:45:27.508Z",
          "shell.execute_reply": "2020-12-03T15:45:27.517Z"
        }
      }
    },
    {
      "cell_type": "code",
      "source": [
        "batch_size = 128\n",
        "num_classes = 10\n",
        "epochs = 20"
      ],
      "outputs": [],
      "execution_count": 3,
      "metadata": {
        "id": "-Hrosq7t8f7U",
        "execution": {
          "iopub.status.busy": "2020-12-03T15:57:07.006Z",
          "iopub.execute_input": "2020-12-03T15:57:07.012Z",
          "iopub.status.idle": "2020-12-03T15:57:07.024Z",
          "shell.execute_reply": "2020-12-03T15:57:07.030Z"
        }
      }
    },
    {
      "cell_type": "code",
      "source": [
        "# the data, split between train and test sets\n",
        "(x_train, y_train), (x_test, y_test) = tf.keras.datasets.mnist.load_data()\n"
      ],
      "outputs": [],
      "execution_count": 4,
      "metadata": {
        "id": "M4DixWIO8kOP",
        "execution": {
          "iopub.status.busy": "2020-12-03T15:57:09.201Z",
          "iopub.execute_input": "2020-12-03T15:57:09.208Z",
          "iopub.status.idle": "2020-12-03T15:57:09.388Z",
          "shell.execute_reply": "2020-12-03T15:57:09.393Z"
        }
      }
    },
    {
      "cell_type": "code",
      "source": [
        "x_train, x_test = x_train / 255.0, x_test / 255.0\n",
        "\n",
        "print(x_train.shape, 'train samples')\n",
        "print(x_test.shape, 'test samples')"
      ],
      "outputs": [
        {
          "output_type": "stream",
          "name": "stdout",
          "text": [
            "(60000, 28, 28) train samples\n",
            "(10000, 28, 28) test samples\n"
          ]
        }
      ],
      "execution_count": 5,
      "metadata": {
        "id": "e5aIoqIg8kXu",
        "colab": {
          "base_uri": "https://localhost:8080/"
        },
        "outputId": "30176da9-90a1-49ce-b5ce-23af16e98865",
        "execution": {
          "iopub.status.busy": "2020-12-03T15:57:23.882Z",
          "iopub.execute_input": "2020-12-03T15:57:23.892Z",
          "iopub.status.idle": "2020-12-03T15:57:24.252Z",
          "shell.execute_reply": "2020-12-03T15:57:24.261Z"
        }
      }
    },
    {
      "cell_type": "code",
      "source": [
        "# convert class vectors to binary class matrices\n",
        "y_train = tf.keras.utils.to_categorical(y_train, num_classes)\n",
        "y_test = tf.keras.utils.to_categorical(y_test, num_classes)"
      ],
      "outputs": [],
      "execution_count": 6,
      "metadata": {
        "id": "EIpnOhVQ8kdX",
        "execution": {
          "iopub.status.busy": "2020-12-03T15:57:28.092Z",
          "iopub.execute_input": "2020-12-03T15:57:28.098Z",
          "iopub.status.idle": "2020-12-03T15:57:28.106Z",
          "shell.execute_reply": "2020-12-03T15:57:28.114Z"
        }
      }
    },
    {
      "cell_type": "code",
      "source": [
        "model = tf.keras.models.Sequential([\n",
        "  tf.keras.layers.Flatten(input_shape=(28, 28)),\n",
        "  tf.keras.layers.Dense(512, activation='relu'),\n",
        "  tf.keras.layers.Dropout(0.2),\n",
        "  tf.keras.layers.Dense(512, activation='relu'),\n",
        "  tf.keras.layers.Dropout(0.2),\n",
        "  tf.keras.layers.Dense(num_classes, activation='softmax'),\n",
        "])"
      ],
      "outputs": [
        {
          "output_type": "stream",
          "name": "stderr",
          "text": [
            "WARNING: Logging before flag parsing goes to stderr.\n",
            "W1203 09:58:11.336538 4471320000 deprecation.py:506] From /Library/Frameworks/Python.framework/Versions/3.7/lib/python3.7/site-packages/tensorflow/python/ops/init_ops.py:1251: calling VarianceScaling.__init__ (from tensorflow.python.ops.init_ops) with dtype is deprecated and will be removed in a future version.\n",
            "Instructions for updating:\n",
            "Call initializer instance with the dtype argument instead of passing it to the constructor\n"
          ]
        }
      ],
      "execution_count": 7,
      "metadata": {
        "id": "MVtbZsop8kiU",
        "execution": {
          "iopub.status.busy": "2020-12-03T15:58:11.309Z",
          "iopub.execute_input": "2020-12-03T15:58:11.314Z",
          "shell.execute_reply": "2020-12-03T15:58:11.446Z",
          "iopub.status.idle": "2020-12-03T15:58:11.437Z"
        }
      }
    },
    {
      "cell_type": "code",
      "source": [
        "model.summary()"
      ],
      "outputs": [
        {
          "output_type": "stream",
          "name": "stdout",
          "text": [
            "Model: \"sequential\"\n",
            "_________________________________________________________________\n",
            "Layer (type)                 Output Shape              Param #   \n",
            "=================================================================\n",
            "flatten (Flatten)            (None, 784)               0         \n",
            "_________________________________________________________________\n",
            "dense (Dense)                (None, 512)               401920    \n",
            "_________________________________________________________________\n",
            "dropout (Dropout)            (None, 512)               0         \n",
            "_________________________________________________________________\n",
            "dense_1 (Dense)              (None, 512)               262656    \n",
            "_________________________________________________________________\n",
            "dropout_1 (Dropout)          (None, 512)               0         \n",
            "_________________________________________________________________\n",
            "dense_2 (Dense)              (None, 10)                5130      \n",
            "=================================================================\n",
            "Total params: 669,706\n",
            "Trainable params: 669,706\n",
            "Non-trainable params: 0\n",
            "_________________________________________________________________\n"
          ]
        }
      ],
      "execution_count": 8,
      "metadata": {
        "id": "VXoeSou88w_S",
        "colab": {
          "base_uri": "https://localhost:8080/"
        },
        "outputId": "49037b52-7edd-4780-8572-77e84a5de2ba",
        "execution": {
          "iopub.status.busy": "2020-12-03T15:58:15.270Z",
          "iopub.execute_input": "2020-12-03T15:58:15.277Z",
          "iopub.status.idle": "2020-12-03T15:58:15.289Z",
          "shell.execute_reply": "2020-12-03T15:58:15.295Z"
        }
      }
    },
    {
      "cell_type": "code",
      "source": [
        "model.compile(loss='categorical_crossentropy',\n",
        "              optimizer='rmsprop',\n",
        "              metrics=['accuracy'])\n",
        "\n",
        "history = model.fit(x_train, y_train,\n",
        "                    batch_size=batch_size,\n",
        "                    epochs=epochs,\n",
        "                    verbose=1,\n",
        "                    validation_data=(x_test, y_test))"
      ],
      "outputs": [
        {
          "output_type": "stream",
          "name": "stdout",
          "text": [
            "Train on 60000 samples, validate on 10000 samples\n",
            "Epoch 1/20\n",
            "60000/60000 [==============================] - 3s 54us/sample - loss: 0.2498 - acc: 0.9228 - val_loss: 0.1115 - val_acc: 0.9661\b\b\b\b\b\b\b\b\b\b\b\b\b\b\b\b\b\b\b\b\b\b\b\b\b\b\b\b\b\b\b\b\b\b\b\b\b\b\b\b\b\b\b\n",
            "Epoch 2/20\n",
            "60000/60000 [==============================] - 3s 48us/sample - loss: 0.1056 - acc: 0.9677 - val_loss: 0.1054 - val_acc: 0.9679\b\b\b\b\b\b\b\b\b\b\b\b\b\b\b\b\b\b\b\b\b\b\b\b\b\b\b\b\b\b\b\b\b\b\b\b\b\b\b\n",
            "Epoch 3/20\n",
            "60000/60000 [==============================] - 3s 48us/sample - loss: 0.0744 - acc: 0.9772 - val_loss: 0.0802 - val_acc: 0.9767\b\b\b\b\b\b\b\b\b\b\b\b\b\b\b\b\b\b\b\b\b\b\b\b\b\b\b\b\b\b\b\b\b\b\b\b\b\b\b\n",
            "Epoch 4/20\n",
            "60000/60000 [==============================] - 3s 49us/sample - loss: 0.0598 - acc: 0.9826 - val_loss: 0.0808 - val_acc: 0.9778\b\b\b\b\b\b\b\b\b\b\b\b\b\b\b\b\b\b\b\b\b\b\b\b\b\b\b\b\b\b\b\b\b\b\b\b\b\b\b\n",
            "Epoch 5/20\n",
            "60000/60000 [==============================] - 3s 50us/sample - loss: 0.0501 - acc: 0.9850 - val_loss: 0.0920 - val_acc: 0.9771\b\b\b\b\b\b\b\b\b\b\b\b\b\b\b\b\b\b\b\b\b\b\b\b\b\b\b\b\b\b\b\b\b\b\b\b\b\b\b\n",
            "Epoch 6/20\n",
            "60000/60000 [==============================] - 3s 52us/sample - loss: 0.0444 - acc: 0.9866 - val_loss: 0.0905 - val_acc: 0.9777\b\b\b\b\b\b\b\b\b\b\b\b\b\b\b\b\b\b\b\b\b\b\b\b\b\b\b\b\b\b\b\b\b\b\b\b\b\b\b\n",
            "Epoch 7/20\n",
            "60000/60000 [==============================] - 3s 50us/sample - loss: 0.0362 - acc: 0.9887 - val_loss: 0.0979 - val_acc: 0.9798\b\b\b\b\b\b\b\b\b\b\b\b\b\b\b\b\b\b\b\b\b\b\b\b\b\b\b\b\b\b\b\b\b\b\b\b\b\b\b\n",
            "Epoch 8/20\n",
            "60000/60000 [==============================] - 3s 47us/sample - loss: 0.0334 - acc: 0.9899 - val_loss: 0.0801 - val_acc: 0.9826\b\b\b\b\b\b\b\b\b\b\b\b\b\b\b\b\b\b\b\b\b\b\b\b\b\b\b\b\b\b\b\b\b\b\b\b\b\b\b\n",
            "Epoch 9/20\n",
            "60000/60000 [==============================] - 3s 49us/sample - loss: 0.0296 - acc: 0.9912 - val_loss: 0.0818 - val_acc: 0.9832\b\b\b\b\b\b\b\b\b\b\b\b\b\b\b\b\b\b\b\b\b\b\b\b\b\b\b\b\b\b\b\b\b\b\b\b\b\b\b\n",
            "Epoch 10/20\n",
            "60000/60000 [==============================] - 3s 50us/sample - loss: 0.0285 - acc: 0.9917 - val_loss: 0.0853 - val_acc: 0.9825\b\b\b\b\b\b\b\b\b\b\b\b\b\b\b\b\b\b\b\b\b\b\b\b\b\b\b\b\b\b\b\b\b\b\b\b\b\b\b\n",
            "Epoch 11/20\n",
            "60000/60000 [==============================] - 3s 50us/sample - loss: 0.0273 - acc: 0.9924 - val_loss: 0.0888 - val_acc: 0.9829\b\b\b\b\b\b\b\b\b\b\b\b\b\b\b\b\b\b\b\b\b\b\b\b\b\b\b\b\b\b\b\b\b\b\b\b\b\b\b\n",
            "Epoch 12/20\n",
            "60000/60000 [==============================] - 3s 50us/sample - loss: 0.0253 - acc: 0.9927 - val_loss: 0.0985 - val_acc: 0.9831\b\b\b\b\b\b\b\b\b\b\b\b\b\b\b\b\b\b\b\b\b\b\b\b\b\b\b\b\b\b\b\b\b\b\b\b\b\b\b\n",
            "Epoch 13/20\n",
            "60000/60000 [==============================] - 3s 50us/sample - loss: 0.0215 - acc: 0.9936 - val_loss: 0.1019 - val_acc: 0.9819\b\b\b\b\b\b\b\b\b\b\b\b\b\b\b\b\b\b\b\b\b\b\b\b\b\b\b\b\b\b\b\b\b\b\b\b\b\b\b\n",
            "Epoch 14/20\n",
            "60000/60000 [==============================] - 3s 50us/sample - loss: 0.0226 - acc: 0.9937 - val_loss: 0.1066 - val_acc: 0.9834\b\b\b\b\b\b\b\b\b\b\b\b\b\b\b\b\b\b\b\b\b\b\b\b\b\b\b\b\b\b\b\b\b\b\b\b\b\b\b\n",
            "Epoch 15/20\n",
            "60000/60000 [==============================] - 3s 49us/sample - loss: 0.0202 - acc: 0.9943 - val_loss: 0.0940 - val_acc: 0.9834\b\b\b\b\b\b\b\b\b\b\b\b\b\b\b\b\b\b\b\b\b\b\b\b\b\b\b\b\b\b\b\b\b\b\b\b\b\b\b\n",
            "Epoch 16/20\n",
            "60000/60000 [==============================] - 3s 49us/sample - loss: 0.0222 - acc: 0.9940 - val_loss: 0.1021 - val_acc: 0.9844\b\b\b\b\b\b\b\b\b\b\b\b\b\b\b\b\b\b\b\b\b\b\b\b\b\b\b\b\b\b\b\b\b\b\b\b\b\b\b\b\b\b\b\b\b\b\b\n",
            "Epoch 17/20\n",
            "60000/60000 [==============================] - 3s 49us/sample - loss: 0.0183 - acc: 0.9949 - val_loss: 0.1084 - val_acc: 0.9858\b\b\b\b\b\b\b\b\b\b\b\b\b\b\b\b\b\b\b\b\b\b\b\b\b\b\b\b\b\b\b\b\b\b\b\b\b\b\b\n",
            "Epoch 18/20\n",
            "60000/60000 [==============================] - 3s 49us/sample - loss: 0.0181 - acc: 0.9949 - val_loss: 0.1106 - val_acc: 0.9819\b\b\b\b\b\b\b\b\b\b\b\b\b\b\b\b\b\b\b\b\b\b\b\b\b\b\b\b\b\b\b\b\b\b\b\b\b\b\b\b\b\b\b\b\b\b\b\n",
            "Epoch 19/20\n",
            "60000/60000 [==============================] - 3s 50us/sample - loss: 0.0177 - acc: 0.9954 - val_loss: 0.1212 - val_acc: 0.9823\b\b\b\b\b\b\b\b\b\b\b\b\b\b\b\b\b\b\b\b\b\b\b\b\b\b\b\b\b\b\b\b\b\b\b\b\b\b\b\b\b\b\b\b\b\b\b\n",
            "Epoch 20/20\n",
            "60000/60000 [==============================] - 3s 50us/sample - loss: 0.0164 - acc: 0.9957 - val_loss: 0.1316 - val_acc: 0.9825\b\b\b\b\b\b\b\b\b\b\b\b\b\b\b\b\b\b\b\b\b\b\b\b\b\b\b\b\b\b\b\b\b\b\b\b\b\b\b\n"
          ]
        }
      ],
      "execution_count": 9,
      "metadata": {
        "id": "_InuAxx_8xKN",
        "colab": {
          "base_uri": "https://localhost:8080/"
        },
        "outputId": "36bf0bba-764d-4181-df55-257cf6942574",
        "execution": {
          "iopub.status.busy": "2020-12-03T15:58:19.700Z",
          "iopub.execute_input": "2020-12-03T15:58:19.706Z",
          "iopub.status.idle": "2020-12-03T15:59:19.680Z",
          "shell.execute_reply": "2020-12-03T15:59:19.687Z"
        }
      }
    },
    {
      "cell_type": "code",
      "source": [
        "history.history.keys()\n"
      ],
      "outputs": [
        {
          "output_type": "execute_result",
          "execution_count": 10,
          "data": {
            "text/plain": "dict_keys(['loss', 'acc', 'val_loss', 'val_acc'])"
          },
          "metadata": {}
        }
      ],
      "execution_count": 10,
      "metadata": {
        "collapsed": true,
        "jupyter": {
          "source_hidden": false,
          "outputs_hidden": false
        },
        "nteract": {
          "transient": {
            "deleting": false
          }
        },
        "execution": {
          "iopub.status.busy": "2020-12-03T15:59:28.352Z",
          "iopub.execute_input": "2020-12-03T15:59:28.356Z",
          "iopub.status.idle": "2020-12-03T15:59:28.365Z",
          "shell.execute_reply": "2020-12-03T15:59:28.369Z"
        }
      }
    },
    {
      "cell_type": "code",
      "source": [
        "import matplotlib.pyplot as plt\n",
        "\n",
        "# Plot training & validation accuracy values\n",
        "plt.plot(history.history['val_acc'])\n",
        "plt.plot(history.history['acc'])\n",
        "plt.title('Model accuracy')\n",
        "plt.ylabel('Accuracy')\n",
        "plt.xlabel('Epoch')\n",
        "plt.legend(['Train', 'Test'], loc='upper left')\n",
        "plt.show()\n"
      ],
      "outputs": [
        {
          "output_type": "display_data",
          "data": {
            "text/plain": "<Figure size 432x288 with 1 Axes>",
            "image/png": "[encoded data removed]"
          },
          "metadata": {
            "needs_background": "light"
          }
        }
      ],
      "execution_count": 12,
      "metadata": {
        "id": "09H525R7JtK1",
        "colab": {
          "base_uri": "https://localhost:8080/",
          "height": 295
        },
        "outputId": "29c60780-cf0e-4d3f-e759-b17a42cac97a",
        "execution": {
          "iopub.status.busy": "2020-12-03T15:59:34.822Z",
          "iopub.execute_input": "2020-12-03T15:59:34.826Z",
          "iopub.status.idle": "2020-12-03T15:59:35.002Z",
          "shell.execute_reply": "2020-12-03T15:59:35.008Z"
        }
      }
    },
    {
      "cell_type": "code",
      "source": [
        "score = model.evaluate(x_test, y_test, verbose=0)\n",
        "print('Test loss:', score[0])\n",
        "print('Test accuracy:', score[1])\n"
      ],
      "outputs": [
        {
          "output_type": "stream",
          "name": "stdout",
          "text": [
            "Test loss: 0.13159886472393972\n",
            "Test accuracy: 0.9825\n"
          ]
        }
      ],
      "execution_count": 13,
      "metadata": {
        "id": "TpNiMY6F838C",
        "colab": {
          "base_uri": "https://localhost:8080/"
        },
        "outputId": "899bd665-8ad6-40af-f88e-f724cfb61588",
        "execution": {
          "iopub.status.busy": "2020-12-03T15:59:36.999Z",
          "iopub.execute_input": "2020-12-03T15:59:37.004Z",
          "iopub.status.idle": "2020-12-03T15:59:37.180Z",
          "shell.execute_reply": "2020-12-03T15:59:37.189Z"
        }
      }
    },
    {
      "cell_type": "code",
      "source": [],
      "outputs": [],
      "execution_count": null,
      "metadata": {
        "collapsed": true,
        "jupyter": {
          "source_hidden": false,
          "outputs_hidden": false
        },
        "nteract": {
          "transient": {
            "deleting": false
          }
        }
      }
    }
  ],
  "metadata": {
    "colab": {
      "name": "Keras_Sequential_Example_MNIST.ipynb",
      "provenance": [],
      "collapsed_sections": []
    },
    "kernelspec": {
      "name": "python3",
      "display_name": "Python 3"
    },
    "language_info": {
      "name": "python",
      "version": "3.7.3",
      "mimetype": "text/x-python",
      "codemirror_mode": {
        "name": "ipython",
        "version": 3
      },
      "pygments_lexer": "ipython3",
      "nbconvert_exporter": "python",
      "file_extension": ".py"
    },
    "nteract": {
      "version": "0.26.0"
    }
  },
  "nbformat": 4,
  "nbformat_minor": 0
}