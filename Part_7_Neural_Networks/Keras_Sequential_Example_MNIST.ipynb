{
  "cells": [
    {
      "cell_type": "markdown",
      "source": [
        "This example is adapted from the Keras TensorFlow site. See [the original code here](https://www.tensorflow.org/tutorials/quickstart/beginner)"
      ],
      "metadata": {
        "id": "CcxXJOpj8P7e"
      }
    },
    {
      "cell_type": "code",
      "source": [
        "# using Keras in TensorFlow\n",
        "\n",
        "import tensorflow as tf"
      ],
      "outputs": [],
      "execution_count": 1,
      "metadata": {
        "id": "0-qywKZt8H05",
        "execution": {
          "iopub.status.busy": "2020-12-02T23:26:29.442Z",
          "iopub.execute_input": "2020-12-02T23:26:29.449Z",
          "iopub.status.idle": "2020-12-02T23:26:32.324Z",
          "shell.execute_reply": "2020-12-02T23:26:32.351Z"
        }
      }
    },
    {
      "cell_type": "code",
      "source": [
        "batch_size = 128\n",
        "num_classes = 10\n",
        "epochs = 20"
      ],
      "outputs": [],
      "execution_count": 2,
      "metadata": {
        "id": "-Hrosq7t8f7U",
        "execution": {
          "iopub.status.busy": "2020-12-02T23:26:32.333Z",
          "iopub.execute_input": "2020-12-02T23:26:32.339Z",
          "iopub.status.idle": "2020-12-02T23:26:32.346Z",
          "shell.execute_reply": "2020-12-02T23:26:32.353Z"
        }
      }
    },
    {
      "cell_type": "code",
      "source": [
        "# the data, split between train and test sets\n",
        "(x_train, y_train), (x_test, y_test) = tf.keras.datasets.mnist.load_data()\n"
      ],
      "outputs": [
        {
          "output_type": "stream",
          "name": "stdout",
          "text": [
            "Downloading data from https://storage.googleapis.com/tensorflow/tf-keras-datasets/mnist.npz\n",
            "11493376/11490434 [==============================] - 1s 0us/step\b\b\b\b\b\b\b\b\b\b\b\b\b\b\b\b\b\b\b\b\b\b\b\b\b\b\b\b\b\b\b\b\b\b\b\b\b\b\b\b\b\b\b\b\b\b\b\b\b\b\b\b\b\b\b\b\n"
          ]
        }
      ],
      "execution_count": 3,
      "metadata": {
        "id": "M4DixWIO8kOP",
        "execution": {
          "iopub.status.busy": "2020-12-02T23:26:35.110Z",
          "iopub.execute_input": "2020-12-02T23:26:35.117Z",
          "iopub.status.idle": "2020-12-02T23:26:36.038Z",
          "shell.execute_reply": "2020-12-02T23:26:36.043Z"
        }
      }
    },
    {
      "cell_type": "code",
      "source": [
        "x_train, x_test = x_train / 255.0, x_test / 255.0\n",
        "\n",
        "print(x_train.shape, 'train samples')\n",
        "print(x_test.shape, 'test samples')"
      ],
      "outputs": [
        {
          "output_type": "stream",
          "name": "stdout",
          "text": [
            "(60000, 28, 28) train samples\n",
            "(10000, 28, 28) test samples\n"
          ]
        }
      ],
      "execution_count": 4,
      "metadata": {
        "id": "e5aIoqIg8kXu",
        "colab": {
          "base_uri": "https://localhost:8080/"
        },
        "outputId": "30176da9-90a1-49ce-b5ce-23af16e98865",
        "execution": {
          "iopub.status.busy": "2020-12-02T23:26:41.792Z",
          "iopub.execute_input": "2020-12-02T23:26:41.797Z",
          "iopub.status.idle": "2020-12-02T23:26:42.028Z",
          "shell.execute_reply": "2020-12-02T23:26:42.039Z"
        }
      }
    },
    {
      "cell_type": "code",
      "source": [
        "# convert class vectors to binary class matrices\n",
        "y_train = tf.keras.utils.to_categorical(y_train, num_classes)\n",
        "y_test = tf.keras.utils.to_categorical(y_test, num_classes)"
      ],
      "outputs": [],
      "execution_count": 5,
      "metadata": {
        "id": "EIpnOhVQ8kdX",
        "execution": {
          "iopub.status.busy": "2020-12-02T23:26:47.211Z",
          "iopub.execute_input": "2020-12-02T23:26:47.215Z",
          "iopub.status.idle": "2020-12-02T23:26:47.226Z",
          "shell.execute_reply": "2020-12-02T23:26:47.233Z"
        }
      }
    },
    {
      "cell_type": "code",
      "source": [
        "model = tf.keras.models.Sequential([\n",
        "  tf.keras.layers.Flatten(input_shape=(28, 28)),\n",
        "  tf.keras.layers.Dense(128, activation='relu'),\n",
        "  tf.keras.layers.Dropout(0.2),\n",
        "  tf.keras.layers.Dense(num_classes, activation='softmax'),\n",
        "])"
      ],
      "outputs": [],
      "execution_count": 11,
      "metadata": {
        "id": "MVtbZsop8kiU",
        "execution": {
          "iopub.status.busy": "2020-12-02T23:28:03.742Z",
          "iopub.execute_input": "2020-12-02T23:28:03.750Z",
          "shell.execute_reply": "2020-12-02T23:28:03.787Z",
          "iopub.status.idle": "2020-12-02T23:28:03.783Z"
        }
      }
    },
    {
      "cell_type": "code",
      "source": [
        "model.summary()"
      ],
      "outputs": [
        {
          "output_type": "stream",
          "name": "stdout",
          "text": [
            "Model: \"sequential_2\"\n",
            "_________________________________________________________________\n",
            "Layer (type)                 Output Shape              Param #   \n",
            "=================================================================\n",
            "flatten_2 (Flatten)          (None, 784)               0         \n",
            "_________________________________________________________________\n",
            "dense_4 (Dense)              (None, 128)               100480    \n",
            "_________________________________________________________________\n",
            "dropout_2 (Dropout)          (None, 128)               0         \n",
            "_________________________________________________________________\n",
            "dense_5 (Dense)              (None, 10)                1290      \n",
            "=================================================================\n",
            "Total params: 101,770\n",
            "Trainable params: 101,770\n",
            "Non-trainable params: 0\n",
            "_________________________________________________________________\n"
          ]
        }
      ],
      "execution_count": 12,
      "metadata": {
        "id": "VXoeSou88w_S",
        "colab": {
          "base_uri": "https://localhost:8080/"
        },
        "outputId": "49037b52-7edd-4780-8572-77e84a5de2ba",
        "execution": {
          "iopub.status.busy": "2020-12-02T23:28:05.970Z",
          "iopub.execute_input": "2020-12-02T23:28:05.975Z",
          "iopub.status.idle": "2020-12-02T23:28:05.985Z",
          "shell.execute_reply": "2020-12-02T23:28:05.992Z"
        }
      }
    },
    {
      "cell_type": "code",
      "source": [
        "model.compile(loss='categorical_crossentropy',\n",
        "              optimizer='rmsprop',\n",
        "              metrics=['accuracy'])\n",
        "\n",
        "history = model.fit(x_train, y_train,\n",
        "                    batch_size=batch_size,\n",
        "                    epochs=epochs,\n",
        "                    verbose=1,\n",
        "                    validation_data=(x_test, y_test))"
      ],
      "outputs": [
        {
          "output_type": "stream",
          "name": "stdout",
          "text": [
            "Train on 60000 samples, validate on 10000 samples\n",
            "Epoch 1/20\n",
            "60000/60000 [==============================] - 1s 13us/sample - loss: 0.0403 - acc: 0.9878 - val_loss: 0.0785 - val_acc: 0.9800\b\b\b\b\b\b\b\b\b\b\b\b\b\b\b\b\b\b\b\b\b\b\b\b\b\b\b\b\b\b\b\b\b\b\b\b\b\b\b\b\b\n",
            "Epoch 2/20\n",
            "60000/60000 [==============================] - 1s 13us/sample - loss: 0.0372 - acc: 0.9887 - val_loss: 0.0786 - val_acc: 0.9804\b\b\b\b\b\b\b\b\b\b\b\b\b\b\b\b\b\b\b\b\b\b\b\b\b\b\b\b\b\b\b\b\b\b\b\b\b\b\b\n",
            "Epoch 3/20\n",
            "60000/60000 [==============================] - 1s 13us/sample - loss: 0.0365 - acc: 0.9886 - val_loss: 0.0808 - val_acc: 0.9803\b\b\b\b\b\b\b\b\b\b\b\b\b\b\b\b\b\b\b\b\b\b\b\b\b\b\b\b\b\b\b\b\b\b\b\b\b\b\b\n",
            "Epoch 4/20\n",
            "60000/60000 [==============================] - 1s 14us/sample - loss: 0.0350 - acc: 0.9892 - val_loss: 0.0813 - val_acc: 0.9815\b\b\b\b\b\b\b\b\b\b\b\b\b\b\b\b\b\b\b\b\b\b\b\b\b\b\b\b\b\b\b\b\b\b\b\b\b\b\b\n",
            "Epoch 5/20\n",
            "60000/60000 [==============================] - 1s 13us/sample - loss: 0.0343 - acc: 0.9897 - val_loss: 0.0854 - val_acc: 0.9797\b\b\b\b\b\b\b\b\b\b\b\b\b\b\b\b\b\b\b\b\b\b\b\b\b\b\b\b\b\b\b\b\b\b\b\b\b\b\b\n",
            "Epoch 6/20\n",
            "60000/60000 [==============================] - 1s 13us/sample - loss: 0.0330 - acc: 0.9894 - val_loss: 0.0839 - val_acc: 0.9810\b\b\b\b\b\b\b\b\b\b\b\b\b\b\b\b\b\b\b\b\b\b\b\b\b\b\b\b\b\b\b\b\b\b\b\b\b\b\b\n",
            "Epoch 7/20\n",
            "60000/60000 [==============================] - 1s 13us/sample - loss: 0.0307 - acc: 0.9906 - val_loss: 0.0854 - val_acc: 0.9805\b\b\b\b\b\b\b\b\b\b\b\b\b\b\b\b\b\b\b\b\b\b\b\b\b\b\b\b\b\b\b\b\b\b\b\b\b\b\b\n",
            "Epoch 8/20\n",
            "60000/60000 [==============================] - 1s 13us/sample - loss: 0.0313 - acc: 0.9904 - val_loss: 0.0875 - val_acc: 0.9803\b\b\b\b\b\b\b\b\b\b\b\b\b\b\b\b\b\b\b\b\b\b\b\b\b\b\b\b\b\b\b\b\b\b\b\b\b\b\b\n",
            "Epoch 9/20\n",
            "60000/60000 [==============================] - 1s 14us/sample - loss: 0.0293 - acc: 0.9905 - val_loss: 0.0888 - val_acc: 0.9805\b\b\b\b\b\b\b\b\b\b\b\b\b\b\b\b\b\b\b\b\b\b\b\b\b\b\b\b\b\b\b\b\b\b\b\b\b\b\b\n",
            "Epoch 10/20\n",
            "60000/60000 [==============================] - 1s 14us/sample - loss: 0.0296 - acc: 0.9912 - val_loss: 0.0921 - val_acc: 0.9802\b\b\b\b\b\b\b\b\b\b\b\b\b\b\b\b\b\b\b\b\b\b\b\b\b\b\b\b\b\b\b\b\b\b\b\b\b\b\b\n",
            "Epoch 11/20\n",
            "60000/60000 [==============================] - 1s 14us/sample - loss: 0.0282 - acc: 0.9912 - val_loss: 0.0925 - val_acc: 0.9815\b\b\b\b\b\b\b\b\b\b\b\b\b\b\b\b\b\b\b\b\b\b\b\b\b\b\b\b\b\b\b\b\b\b\b\b\b\b\b\n",
            "Epoch 12/20\n",
            "60000/60000 [==============================] - 1s 14us/sample - loss: 0.0286 - acc: 0.9913 - val_loss: 0.0933 - val_acc: 0.9806\b\b\b\b\b\b\b\b\b\b\b\b\b\b\b\b\b\b\b\b\b\b\b\b\b\b\b\b\b\b\b\b\b\b\b\b\b\b\b\n",
            "Epoch 13/20\n",
            "60000/60000 [==============================] - 1s 14us/sample - loss: 0.0268 - acc: 0.9917 - val_loss: 0.0941 - val_acc: 0.9798\b\b\b\b\b\b\b\b\b\b\b\b\b\b\b\b\b\b\b\b\b\b\b\b\b\b\b\b\b\b\b\b\b\b\b\b\b\b\b\n",
            "Epoch 14/20\n",
            "60000/60000 [==============================] - 1s 14us/sample - loss: 0.0263 - acc: 0.9919 - val_loss: 0.0911 - val_acc: 0.9820\b\b\b\b\b\b\b\b\b\b\b\b\b\b\b\b\b\b\b\b\b\b\b\b\b\b\b\b\b\b\b\b\b\b\b\b\b\b\b\n",
            "Epoch 15/20\n",
            "60000/60000 [==============================] - 1s 14us/sample - loss: 0.0258 - acc: 0.9919 - val_loss: 0.0995 - val_acc: 0.9797\b\b\b\b\b\b\b\b\b\b\b\b\b\b\b\b\b\b\b\b\b\b\b\b\b\b\b\b\b\b\b\b\b\b\b\b\b\b\b\n",
            "Epoch 16/20\n",
            "60000/60000 [==============================] - 1s 14us/sample - loss: 0.0248 - acc: 0.9922 - val_loss: 0.0967 - val_acc: 0.9809\b\b\b\b\b\b\b\b\b\b\b\b\b\b\b\b\b\b\b\b\b\b\b\b\b\b\b\b\b\b\b\b\b\b\b\b\b\b\b\n",
            "Epoch 17/20\n",
            "60000/60000 [==============================] - 1s 14us/sample - loss: 0.0242 - acc: 0.9927 - val_loss: 0.0990 - val_acc: 0.9796\b\b\b\b\b\b\b\b\b\b\b\b\b\b\b\b\b\b\b\b\b\b\b\b\b\b\b\b\b\b\b\b\b\b\b\b\b\b\b\n",
            "Epoch 18/20\n",
            "60000/60000 [==============================] - 1s 14us/sample - loss: 0.0252 - acc: 0.9920 - val_loss: 0.0964 - val_acc: 0.9792\b\b\b\b\b\b\b\b\b\b\b\b\b\b\b\b\b\b\b\b\b\b\b\b\b\b\b\b\b\b\b\b\b\b\b\b\b\b\b\n",
            "Epoch 19/20\n",
            "60000/60000 [==============================] - 1s 14us/sample - loss: 0.0237 - acc: 0.9926 - val_loss: 0.0995 - val_acc: 0.9801\b\b\b\b\b\b\b\b\b\b\b\b\b\b\b\b\b\b\b\b\b\b\b\b\b\b\b\b\b\b\b\b\b\b\b\b\b\b\b\n",
            "Epoch 20/20\n",
            "60000/60000 [==============================] - 1s 13us/sample - loss: 0.0241 - acc: 0.9923 - val_loss: 0.1017 - val_acc: 0.9808\b\b\b\b\b\b\b\b\b\b\b\b\b\b\b\b\b\b\b\b\b\b\b\b\b\b\b\b\b\b\b\b\b\b\b\b\b\b\b\n"
          ]
        }
      ],
      "execution_count": 18,
      "metadata": {
        "id": "_InuAxx_8xKN",
        "colab": {
          "base_uri": "https://localhost:8080/"
        },
        "outputId": "36bf0bba-764d-4181-df55-257cf6942574",
        "execution": {
          "iopub.status.busy": "2020-12-02T23:29:10.414Z",
          "iopub.execute_input": "2020-12-02T23:29:10.418Z",
          "iopub.status.idle": "2020-12-02T23:29:27.050Z",
          "shell.execute_reply": "2020-12-02T23:29:27.059Z"
        }
      }
    },
    {
      "cell_type": "code",
      "source": [
        "history.history.keys()\n"
      ],
      "outputs": [
        {
          "output_type": "execute_result",
          "execution_count": 25,
          "data": {
            "text/plain": "dict_keys(['loss', 'acc', 'val_loss', 'val_acc'])"
          },
          "metadata": {}
        }
      ],
      "execution_count": 25,
      "metadata": {
        "collapsed": true,
        "jupyter": {
          "source_hidden": false,
          "outputs_hidden": false
        },
        "nteract": {
          "transient": {
            "deleting": false
          }
        },
        "execution": {
          "iopub.status.busy": "2020-12-02T23:31:38.340Z",
          "iopub.execute_input": "2020-12-02T23:31:38.344Z",
          "iopub.status.idle": "2020-12-02T23:31:38.355Z",
          "shell.execute_reply": "2020-12-02T23:31:38.360Z"
        }
      }
    },
    {
      "cell_type": "code",
      "source": [
        "import matplotlib.pyplot as plt\n",
        "\n",
        "# Plot training & validation accuracy values\n",
        "plt.plot(history.history['val_acc'])\n",
        "plt.plot(history.history['acc'])\n",
        "plt.title('Model accuracy')\n",
        "plt.ylabel('Accuracy')\n",
        "plt.xlabel('Epoch')\n",
        "plt.legend(['Train', 'Test'], loc='upper left')\n",
        "plt.show()\n"
      ],
      "outputs": [
        {
          "output_type": "display_data",
          "data": {
            "text/plain": "<Figure size 432x288 with 1 Axes>",
            "image/png": "[encoded data removed]"
          },
          "metadata": {
            "needs_background": "light"
          }
        }
      ],
      "execution_count": 26,
      "metadata": {
        "id": "09H525R7JtK1",
        "colab": {
          "base_uri": "https://localhost:8080/",
          "height": 295
        },
        "outputId": "29c60780-cf0e-4d3f-e759-b17a42cac97a",
        "execution": {
          "iopub.status.busy": "2020-12-02T23:32:01.389Z",
          "iopub.execute_input": "2020-12-02T23:32:01.394Z",
          "iopub.status.idle": "2020-12-02T23:32:01.672Z",
          "shell.execute_reply": "2020-12-02T23:32:01.677Z"
        }
      }
    },
    {
      "cell_type": "code",
      "source": [
        "score = model.evaluate(x_test, y_test, verbose=0)\n",
        "print('Test loss:', score[0])\n",
        "print('Test accuracy:', score[1])\n"
      ],
      "outputs": [
        {
          "output_type": "stream",
          "name": "stdout",
          "text": [
            "Test loss: 0.10173919826487718\n",
            "Test accuracy: 0.9808\n"
          ]
        }
      ],
      "execution_count": 28,
      "metadata": {
        "id": "TpNiMY6F838C",
        "colab": {
          "base_uri": "https://localhost:8080/"
        },
        "outputId": "899bd665-8ad6-40af-f88e-f724cfb61588",
        "execution": {
          "iopub.status.busy": "2020-12-02T23:32:35.993Z",
          "iopub.execute_input": "2020-12-02T23:32:35.999Z",
          "iopub.status.idle": "2020-12-02T23:32:36.095Z",
          "shell.execute_reply": "2020-12-02T23:32:36.100Z"
        }
      }
    },
    {
      "cell_type": "code",
      "source": [],
      "outputs": [],
      "execution_count": null,
      "metadata": {
        "collapsed": true,
        "jupyter": {
          "source_hidden": false,
          "outputs_hidden": false
        },
        "nteract": {
          "transient": {
            "deleting": false
          }
        }
      }
    }
  ],
  "metadata": {
    "colab": {
      "name": "Keras_Sequential_Example_MNIST.ipynb",
      "provenance": [],
      "collapsed_sections": []
    },
    "kernelspec": {
      "name": "python3",
      "display_name": "Python 3"
    },
    "language_info": {
      "name": "python",
      "version": "3.7.3",
      "mimetype": "text/x-python",
      "codemirror_mode": {
        "name": "ipython",
        "version": 3
      },
      "pygments_lexer": "ipython3",
      "nbconvert_exporter": "python",
      "file_extension": ".py"
    },
    "nteract": {
      "version": "0.26.0"
    }
  },
  "nbformat": 4,
  "nbformat_minor": 0
}